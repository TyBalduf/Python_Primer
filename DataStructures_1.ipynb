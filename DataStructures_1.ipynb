{
 "cells": [
  {
   "cell_type": "markdown",
   "metadata": {},
   "source": [
    "# Python Primer\n",
    "* Python is a general purpose programming language, popular for its ease of use and wide range of libraries.\n",
    "* Major use cases:\n",
    "    * Scripting: Read/write files, control submission of jobs\n",
    "    * Prototyping: Can quickly test \n",
    "    * High level interface"
   ]
  },
  {
   "cell_type": "markdown",
   "metadata": {},
   "source": [
    "## Getting Started\n",
    "\n",
    "* Anaconda:\n",
    "    * Free distribution of Python, available on cluster\n",
    "    * Variety of useful packages:\n",
    "        * Numpy (math with arrays)\n",
    "        * Scipy (advanced linear algebra/calculus/optimization functions)\n",
    "        * Sympy (symbolic math operations)\n",
    "        * Pandas (dataframes for organizing various data types)\n",
    "        * Matplotlib (plotting)\n",
    "* Pycharm:\n",
    "    * Free Python GUI, useful editor functions (syntax highlighting, smart refactoring, debugger)\n",
    "    * Git integration\n",
    "* Juptyer Notebook:\n",
    "    * Online environment combining formatted text and code\n",
    "    * Good for making tutorials, lab reports, documentation\n",
    "        "
   ]
  },
  {
   "cell_type": "markdown",
   "metadata": {},
   "source": [
    "## Basics\n",
    "\n",
    "* Python is dynamically typed, don't need to manually allocate memory"
   ]
  },
  {
   "cell_type": "code",
   "execution_count": 3,
   "metadata": {},
   "outputs": [
    {
     "name": "stdout",
     "output_type": "stream",
     "text": [
      "apple\n",
      "3\n"
     ]
    }
   ],
   "source": [
    "x=\"apple\" #Need to do `str x=3` in static language\n",
    "print(x)\n",
    "x=3 #Can change the type of a variable, would give error in other languages\n",
    "print(x)"
   ]
  },
  {
   "cell_type": "markdown",
   "metadata": {},
   "source": [
    "* If a particular type is needed, can easily convert"
   ]
  },
  {
   "cell_type": "code",
   "execution_count": 7,
   "metadata": {},
   "outputs": [
    {
     "name": "stdout",
     "output_type": "stream",
     "text": [
      "3.0\n",
      "3\n",
      "True\n"
     ]
    }
   ],
   "source": [
    "print(float(x))\n",
    "print(str(x))\n",
    "print(bool(x))"
   ]
  },
  {
   "cell_type": "markdown",
   "metadata": {},
   "source": [
    "* The type of a variable can affect how it behaves when operated on"
   ]
  },
  {
   "cell_type": "code",
   "execution_count": 11,
   "metadata": {},
   "outputs": [
    {
     "name": "stdout",
     "output_type": "stream",
     "text": [
      "1.5\n",
      "1\n",
      "6\n",
      "dogdog\n"
     ]
    }
   ],
   "source": [
    "print(x/2) #integer division converts to float (in Python3.x)\n",
    "print(x//2) #truncates and remains int\n",
    "\n",
    "print(2*x) \n",
    "print(2*\"dog\") #string multiplication repeats the string"
   ]
  },
  {
   "cell_type": "markdown",
   "metadata": {},
   "source": [
    "## Data Structures in Python\n",
    "* Hugely important for writing clear and efficient code\n",
    "* Key examples\n",
    "    * Lists [var,...]\n",
    "    * Dicts {name : var,...}\n",
    "    * Sets {var,...}\n",
    "    * Tuples tuple(var,...)\n",
    "    * Arrays numpy.array(var,...) (requires numpy)\n",
    "\n",
    "### Creating Lists Pythonically\n",
    "* Create the multiplication table from 0 to 4"
   ]
  },
  {
   "cell_type": "code",
   "execution_count": 17,
   "metadata": {},
   "outputs": [
    {
     "name": "stdout",
     "output_type": "stream",
     "text": [
      "standard way\n",
      "[[0, 0, 0, 0, 0], [0, 1, 2, 3, 4], [0, 2, 4, 6, 8], [0, 3, 6, 9, 12], [0, 4, 8, 12, 16]]\n",
      "Python way\n",
      "[[0, 0, 0, 0, 0], [0, 1, 2, 3, 4], [0, 2, 4, 6, 8], [0, 3, 6, 9, 12], [0, 4, 8, 12, 16]]\n"
     ]
    }
   ],
   "source": [
    "print(\"standard way\")\n",
    "A=[]\n",
    "for i in range(5): #iterate from 0 to 4\n",
    "    temp=[]\n",
    "    for j in range(5):\n",
    "        temp.append(i*j)\n",
    "    A.append(temp)    \n",
    "print(A)\n",
    "\n",
    "print(\"Python way\")\n",
    "A=[[i*j for i in range(5)] for j in range(5)]\n",
    "print(A)"
   ]
  },
  {
   "cell_type": "markdown",
   "metadata": {},
   "source": [
    "* Take the even numbers from an existing list and square them"
   ]
  },
  {
   "cell_type": "code",
   "execution_count": 18,
   "metadata": {},
   "outputs": [
    {
     "name": "stdout",
     "output_type": "stream",
     "text": [
      "standard way\n",
      "[100, 4, 4]\n",
      "Python way\n",
      "[100, 4, 4]\n"
     ]
    }
   ],
   "source": [
    "B=[10,2,3,7,5,2,1]\n",
    "print(\"standard way\")\n",
    "C=[]\n",
    "for i in range(len(B)):\n",
    "    if B[i]%2==0:  #Comparison, returns true if equal\n",
    "        C.append(B[i]**2)\n",
    "print(C)\n",
    "        \n",
    "print(\"Python way\")\n",
    "C=[b**2 for b in B if b%2==0]\n",
    "print(C)    "
   ]
  },
  {
   "cell_type": "code",
   "execution_count": null,
   "metadata": {},
   "outputs": [],
   "source": []
  }
 ],
 "metadata": {
  "kernelspec": {
   "display_name": "Python 3",
   "language": "python",
   "name": "python3"
  },
  "language_info": {
   "codemirror_mode": {
    "name": "ipython",
    "version": 3
   },
   "file_extension": ".py",
   "mimetype": "text/x-python",
   "name": "python",
   "nbconvert_exporter": "python",
   "pygments_lexer": "ipython3",
   "version": "3.6.9"
  }
 },
 "nbformat": 4,
 "nbformat_minor": 2
}
